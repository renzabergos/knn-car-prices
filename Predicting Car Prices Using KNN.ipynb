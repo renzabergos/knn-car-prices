{
 "cells": [
  {
   "cell_type": "markdown",
   "metadata": {
    "collapsed": true
   },
   "source": [
    "# Predicting Car Prices using KNN"
   ]
  },
  {
   "cell_type": "code",
   "execution_count": 1,
   "metadata": {
    "collapsed": true
   },
   "outputs": [],
   "source": [
    "import collections\n",
    "import pandas as pd\n",
    "import numpy as np\n",
    "import matplotlib.pyplot as plt\n",
    "%matplotlib inline"
   ]
  },
  {
   "cell_type": "code",
   "execution_count": 2,
   "metadata": {
    "collapsed": true
   },
   "outputs": [],
   "source": [
    "cols = ['symboling', 'normalized-losses', 'make', 'fuel-type', 'aspiration', 'num-of-doors', 'body-style', \n",
    "        'drive-wheels', 'engine-location', 'wheel-base', 'length', 'width', 'height', 'curb-weight', 'engine-type', \n",
    "        'num-of-cylinders', 'engine-size', 'fuel-system', 'bore', 'stroke', 'compression-rate', 'horsepower', 'peak-rpm',\n",
    "        'city-mpg', 'highway-mpg', 'price']"
   ]
  },
  {
   "cell_type": "code",
   "execution_count": 3,
   "metadata": {},
   "outputs": [],
   "source": [
    "cars = pd.read_csv(\"imports-85.data\", names=cols)"
   ]
  },
  {
   "cell_type": "code",
   "execution_count": 4,
   "metadata": {},
   "outputs": [
    {
     "name": "stdout",
     "output_type": "stream",
     "text": [
      "<class 'pandas.core.frame.DataFrame'>\n",
      "RangeIndex: 205 entries, 0 to 204\n",
      "Data columns (total 26 columns):\n",
      "symboling            205 non-null int64\n",
      "normalized-losses    205 non-null object\n",
      "make                 205 non-null object\n",
      "fuel-type            205 non-null object\n",
      "aspiration           205 non-null object\n",
      "num-of-doors         205 non-null object\n",
      "body-style           205 non-null object\n",
      "drive-wheels         205 non-null object\n",
      "engine-location      205 non-null object\n",
      "wheel-base           205 non-null float64\n",
      "length               205 non-null float64\n",
      "width                205 non-null float64\n",
      "height               205 non-null float64\n",
      "curb-weight          205 non-null int64\n",
      "engine-type          205 non-null object\n",
      "num-of-cylinders     205 non-null object\n",
      "engine-size          205 non-null int64\n",
      "fuel-system          205 non-null object\n",
      "bore                 205 non-null object\n",
      "stroke               205 non-null object\n",
      "compression-rate     205 non-null float64\n",
      "horsepower           205 non-null object\n",
      "peak-rpm             205 non-null object\n",
      "city-mpg             205 non-null int64\n",
      "highway-mpg          205 non-null int64\n",
      "price                205 non-null object\n",
      "dtypes: float64(5), int64(5), object(16)\n",
      "memory usage: 41.7+ KB\n"
     ]
    }
   ],
   "source": [
    "cars.info()"
   ]
  },
  {
   "cell_type": "code",
   "execution_count": 5,
   "metadata": {},
   "outputs": [
    {
     "data": {
      "text/plain": [
       "symboling                      3\n",
       "normalized-losses              ?\n",
       "make                 alfa-romero\n",
       "fuel-type                    gas\n",
       "aspiration                   std\n",
       "num-of-doors                 two\n",
       "body-style           convertible\n",
       "drive-wheels                 rwd\n",
       "engine-location            front\n",
       "wheel-base                  88.6\n",
       "length                     168.8\n",
       "width                       64.1\n",
       "height                      48.8\n",
       "curb-weight                 2548\n",
       "engine-type                 dohc\n",
       "num-of-cylinders            four\n",
       "engine-size                  130\n",
       "fuel-system                 mpfi\n",
       "bore                        3.47\n",
       "stroke                      2.68\n",
       "compression-rate               9\n",
       "horsepower                   111\n",
       "peak-rpm                    5000\n",
       "city-mpg                      21\n",
       "highway-mpg                   27\n",
       "price                      13495\n",
       "Name: 0, dtype: object"
      ]
     },
     "execution_count": 5,
     "metadata": {},
     "output_type": "execute_result"
    }
   ],
   "source": [
    "cars.iloc[0]"
   ]
  },
  {
   "cell_type": "code",
   "execution_count": 6,
   "metadata": {},
   "outputs": [],
   "source": [
    "# Select only numeric columns and the target column is the price\n",
    "num_cols = ['normalized-losses', 'wheel-base', 'length', 'width', 'height', 'curb-weight', 'bore', 'stroke', 'compression-rate', 'horsepower', 'peak-rpm', 'city-mpg', 'highway-mpg', 'price']\n",
    "numeric_cars = cars[num_cols]"
   ]
  },
  {
   "cell_type": "code",
   "execution_count": 7,
   "metadata": {
    "scrolled": true
   },
   "outputs": [
    {
     "data": {
      "text/html": [
       "<div>\n",
       "<style scoped>\n",
       "    .dataframe tbody tr th:only-of-type {\n",
       "        vertical-align: middle;\n",
       "    }\n",
       "\n",
       "    .dataframe tbody tr th {\n",
       "        vertical-align: top;\n",
       "    }\n",
       "\n",
       "    .dataframe thead th {\n",
       "        text-align: right;\n",
       "    }\n",
       "</style>\n",
       "<table border=\"1\" class=\"dataframe\">\n",
       "  <thead>\n",
       "    <tr style=\"text-align: right;\">\n",
       "      <th></th>\n",
       "      <th>normalized-losses</th>\n",
       "      <th>wheel-base</th>\n",
       "      <th>length</th>\n",
       "      <th>width</th>\n",
       "      <th>height</th>\n",
       "      <th>curb-weight</th>\n",
       "      <th>bore</th>\n",
       "      <th>stroke</th>\n",
       "      <th>compression-rate</th>\n",
       "      <th>horsepower</th>\n",
       "      <th>peak-rpm</th>\n",
       "      <th>city-mpg</th>\n",
       "      <th>highway-mpg</th>\n",
       "      <th>price</th>\n",
       "    </tr>\n",
       "  </thead>\n",
       "  <tbody>\n",
       "    <tr>\n",
       "      <th>0</th>\n",
       "      <td>?</td>\n",
       "      <td>88.6</td>\n",
       "      <td>168.8</td>\n",
       "      <td>64.1</td>\n",
       "      <td>48.8</td>\n",
       "      <td>2548</td>\n",
       "      <td>3.47</td>\n",
       "      <td>2.68</td>\n",
       "      <td>9.0</td>\n",
       "      <td>111</td>\n",
       "      <td>5000</td>\n",
       "      <td>21</td>\n",
       "      <td>27</td>\n",
       "      <td>13495</td>\n",
       "    </tr>\n",
       "    <tr>\n",
       "      <th>1</th>\n",
       "      <td>?</td>\n",
       "      <td>88.6</td>\n",
       "      <td>168.8</td>\n",
       "      <td>64.1</td>\n",
       "      <td>48.8</td>\n",
       "      <td>2548</td>\n",
       "      <td>3.47</td>\n",
       "      <td>2.68</td>\n",
       "      <td>9.0</td>\n",
       "      <td>111</td>\n",
       "      <td>5000</td>\n",
       "      <td>21</td>\n",
       "      <td>27</td>\n",
       "      <td>16500</td>\n",
       "    </tr>\n",
       "    <tr>\n",
       "      <th>2</th>\n",
       "      <td>?</td>\n",
       "      <td>94.5</td>\n",
       "      <td>171.2</td>\n",
       "      <td>65.5</td>\n",
       "      <td>52.4</td>\n",
       "      <td>2823</td>\n",
       "      <td>2.68</td>\n",
       "      <td>3.47</td>\n",
       "      <td>9.0</td>\n",
       "      <td>154</td>\n",
       "      <td>5000</td>\n",
       "      <td>19</td>\n",
       "      <td>26</td>\n",
       "      <td>16500</td>\n",
       "    </tr>\n",
       "    <tr>\n",
       "      <th>3</th>\n",
       "      <td>164</td>\n",
       "      <td>99.8</td>\n",
       "      <td>176.6</td>\n",
       "      <td>66.2</td>\n",
       "      <td>54.3</td>\n",
       "      <td>2337</td>\n",
       "      <td>3.19</td>\n",
       "      <td>3.40</td>\n",
       "      <td>10.0</td>\n",
       "      <td>102</td>\n",
       "      <td>5500</td>\n",
       "      <td>24</td>\n",
       "      <td>30</td>\n",
       "      <td>13950</td>\n",
       "    </tr>\n",
       "    <tr>\n",
       "      <th>4</th>\n",
       "      <td>164</td>\n",
       "      <td>99.4</td>\n",
       "      <td>176.6</td>\n",
       "      <td>66.4</td>\n",
       "      <td>54.3</td>\n",
       "      <td>2824</td>\n",
       "      <td>3.19</td>\n",
       "      <td>3.40</td>\n",
       "      <td>8.0</td>\n",
       "      <td>115</td>\n",
       "      <td>5500</td>\n",
       "      <td>18</td>\n",
       "      <td>22</td>\n",
       "      <td>17450</td>\n",
       "    </tr>\n",
       "  </tbody>\n",
       "</table>\n",
       "</div>"
      ],
      "text/plain": [
       "  normalized-losses  wheel-base  length  width  height  curb-weight  bore  \\\n",
       "0                 ?        88.6   168.8   64.1    48.8         2548  3.47   \n",
       "1                 ?        88.6   168.8   64.1    48.8         2548  3.47   \n",
       "2                 ?        94.5   171.2   65.5    52.4         2823  2.68   \n",
       "3               164        99.8   176.6   66.2    54.3         2337  3.19   \n",
       "4               164        99.4   176.6   66.4    54.3         2824  3.19   \n",
       "\n",
       "  stroke  compression-rate horsepower peak-rpm  city-mpg  highway-mpg  price  \n",
       "0   2.68               9.0        111     5000        21           27  13495  \n",
       "1   2.68               9.0        111     5000        21           27  16500  \n",
       "2   3.47               9.0        154     5000        19           26  16500  \n",
       "3   3.40              10.0        102     5500        24           30  13950  \n",
       "4   3.40               8.0        115     5500        18           22  17450  "
      ]
     },
     "execution_count": 7,
     "metadata": {},
     "output_type": "execute_result"
    }
   ],
   "source": [
    "numeric_cars.head()"
   ]
  },
  {
   "cell_type": "code",
   "execution_count": 8,
   "metadata": {
    "collapsed": true
   },
   "outputs": [],
   "source": [
    "# replace ? values into NaN\n",
    "numeric_cars = numeric_cars.replace('?', np.nan).astype('float')"
   ]
  },
  {
   "cell_type": "code",
   "execution_count": 9,
   "metadata": {},
   "outputs": [
    {
     "data": {
      "text/html": [
       "<div>\n",
       "<style scoped>\n",
       "    .dataframe tbody tr th:only-of-type {\n",
       "        vertical-align: middle;\n",
       "    }\n",
       "\n",
       "    .dataframe tbody tr th {\n",
       "        vertical-align: top;\n",
       "    }\n",
       "\n",
       "    .dataframe thead th {\n",
       "        text-align: right;\n",
       "    }\n",
       "</style>\n",
       "<table border=\"1\" class=\"dataframe\">\n",
       "  <thead>\n",
       "    <tr style=\"text-align: right;\">\n",
       "      <th></th>\n",
       "      <th>normalized-losses</th>\n",
       "      <th>wheel-base</th>\n",
       "      <th>length</th>\n",
       "      <th>width</th>\n",
       "      <th>height</th>\n",
       "      <th>curb-weight</th>\n",
       "      <th>bore</th>\n",
       "      <th>stroke</th>\n",
       "      <th>compression-rate</th>\n",
       "      <th>horsepower</th>\n",
       "      <th>peak-rpm</th>\n",
       "      <th>city-mpg</th>\n",
       "      <th>highway-mpg</th>\n",
       "      <th>price</th>\n",
       "    </tr>\n",
       "  </thead>\n",
       "  <tbody>\n",
       "    <tr>\n",
       "      <th>0</th>\n",
       "      <td>NaN</td>\n",
       "      <td>88.6</td>\n",
       "      <td>168.8</td>\n",
       "      <td>64.1</td>\n",
       "      <td>48.8</td>\n",
       "      <td>2548.0</td>\n",
       "      <td>3.47</td>\n",
       "      <td>2.68</td>\n",
       "      <td>9.0</td>\n",
       "      <td>111.0</td>\n",
       "      <td>5000.0</td>\n",
       "      <td>21.0</td>\n",
       "      <td>27.0</td>\n",
       "      <td>13495.0</td>\n",
       "    </tr>\n",
       "    <tr>\n",
       "      <th>1</th>\n",
       "      <td>NaN</td>\n",
       "      <td>88.6</td>\n",
       "      <td>168.8</td>\n",
       "      <td>64.1</td>\n",
       "      <td>48.8</td>\n",
       "      <td>2548.0</td>\n",
       "      <td>3.47</td>\n",
       "      <td>2.68</td>\n",
       "      <td>9.0</td>\n",
       "      <td>111.0</td>\n",
       "      <td>5000.0</td>\n",
       "      <td>21.0</td>\n",
       "      <td>27.0</td>\n",
       "      <td>16500.0</td>\n",
       "    </tr>\n",
       "    <tr>\n",
       "      <th>2</th>\n",
       "      <td>NaN</td>\n",
       "      <td>94.5</td>\n",
       "      <td>171.2</td>\n",
       "      <td>65.5</td>\n",
       "      <td>52.4</td>\n",
       "      <td>2823.0</td>\n",
       "      <td>2.68</td>\n",
       "      <td>3.47</td>\n",
       "      <td>9.0</td>\n",
       "      <td>154.0</td>\n",
       "      <td>5000.0</td>\n",
       "      <td>19.0</td>\n",
       "      <td>26.0</td>\n",
       "      <td>16500.0</td>\n",
       "    </tr>\n",
       "    <tr>\n",
       "      <th>3</th>\n",
       "      <td>164.0</td>\n",
       "      <td>99.8</td>\n",
       "      <td>176.6</td>\n",
       "      <td>66.2</td>\n",
       "      <td>54.3</td>\n",
       "      <td>2337.0</td>\n",
       "      <td>3.19</td>\n",
       "      <td>3.40</td>\n",
       "      <td>10.0</td>\n",
       "      <td>102.0</td>\n",
       "      <td>5500.0</td>\n",
       "      <td>24.0</td>\n",
       "      <td>30.0</td>\n",
       "      <td>13950.0</td>\n",
       "    </tr>\n",
       "    <tr>\n",
       "      <th>4</th>\n",
       "      <td>164.0</td>\n",
       "      <td>99.4</td>\n",
       "      <td>176.6</td>\n",
       "      <td>66.4</td>\n",
       "      <td>54.3</td>\n",
       "      <td>2824.0</td>\n",
       "      <td>3.19</td>\n",
       "      <td>3.40</td>\n",
       "      <td>8.0</td>\n",
       "      <td>115.0</td>\n",
       "      <td>5500.0</td>\n",
       "      <td>18.0</td>\n",
       "      <td>22.0</td>\n",
       "      <td>17450.0</td>\n",
       "    </tr>\n",
       "  </tbody>\n",
       "</table>\n",
       "</div>"
      ],
      "text/plain": [
       "   normalized-losses  wheel-base  length  width  height  curb-weight  bore  \\\n",
       "0                NaN        88.6   168.8   64.1    48.8       2548.0  3.47   \n",
       "1                NaN        88.6   168.8   64.1    48.8       2548.0  3.47   \n",
       "2                NaN        94.5   171.2   65.5    52.4       2823.0  2.68   \n",
       "3              164.0        99.8   176.6   66.2    54.3       2337.0  3.19   \n",
       "4              164.0        99.4   176.6   66.4    54.3       2824.0  3.19   \n",
       "\n",
       "   stroke  compression-rate  horsepower  peak-rpm  city-mpg  highway-mpg  \\\n",
       "0    2.68               9.0       111.0    5000.0      21.0         27.0   \n",
       "1    2.68               9.0       111.0    5000.0      21.0         27.0   \n",
       "2    3.47               9.0       154.0    5000.0      19.0         26.0   \n",
       "3    3.40              10.0       102.0    5500.0      24.0         30.0   \n",
       "4    3.40               8.0       115.0    5500.0      18.0         22.0   \n",
       "\n",
       "     price  \n",
       "0  13495.0  \n",
       "1  16500.0  \n",
       "2  16500.0  \n",
       "3  13950.0  \n",
       "4  17450.0  "
      ]
     },
     "execution_count": 9,
     "metadata": {},
     "output_type": "execute_result"
    }
   ],
   "source": [
    "numeric_cars.head()"
   ]
  },
  {
   "cell_type": "code",
   "execution_count": 10,
   "metadata": {},
   "outputs": [
    {
     "data": {
      "text/plain": [
       "normalized-losses    41\n",
       "wheel-base            0\n",
       "length                0\n",
       "width                 0\n",
       "height                0\n",
       "curb-weight           0\n",
       "bore                  4\n",
       "stroke                4\n",
       "compression-rate      0\n",
       "horsepower            2\n",
       "peak-rpm              2\n",
       "city-mpg              0\n",
       "highway-mpg           0\n",
       "price                 4\n",
       "dtype: int64"
      ]
     },
     "execution_count": 10,
     "metadata": {},
     "output_type": "execute_result"
    }
   ],
   "source": [
    "numeric_cars.isnull().sum()"
   ]
  },
  {
   "cell_type": "code",
   "execution_count": 11,
   "metadata": {},
   "outputs": [],
   "source": [
    "# drop rows with missing prices since we can't estimate target prices\n",
    "numeric_cars.dropna(subset=[\"price\"], inplace=True)"
   ]
  },
  {
   "cell_type": "code",
   "execution_count": 12,
   "metadata": {
    "collapsed": true
   },
   "outputs": [],
   "source": [
    "# fill missing values with the mean for each column\n",
    "numeric_cars = numeric_cars.fillna(numeric_cars.mean())"
   ]
  },
  {
   "cell_type": "code",
   "execution_count": 13,
   "metadata": {},
   "outputs": [
    {
     "data": {
      "text/plain": [
       "normalized-losses    0\n",
       "wheel-base           0\n",
       "length               0\n",
       "width                0\n",
       "height               0\n",
       "curb-weight          0\n",
       "bore                 0\n",
       "stroke               0\n",
       "compression-rate     0\n",
       "horsepower           0\n",
       "peak-rpm             0\n",
       "city-mpg             0\n",
       "highway-mpg          0\n",
       "price                0\n",
       "dtype: int64"
      ]
     },
     "execution_count": 13,
     "metadata": {},
     "output_type": "execute_result"
    }
   ],
   "source": [
    "numeric_cars.isnull().sum()"
   ]
  },
  {
   "cell_type": "code",
   "execution_count": 14,
   "metadata": {
    "collapsed": true
   },
   "outputs": [],
   "source": [
    "# separate the target column since we won't normalize it\n",
    "price_col = numeric_cars[\"price\"]\n",
    "# normalize numeric columns from 0 to 1\n",
    "numeric_cars = (numeric_cars - numeric_cars.min()) / (numeric_cars.max() - numeric_cars.min())\n",
    "numeric_cars[\"price\"] = price_col"
   ]
  },
  {
   "cell_type": "code",
   "execution_count": 15,
   "metadata": {},
   "outputs": [
    {
     "data": {
      "text/html": [
       "<div>\n",
       "<style scoped>\n",
       "    .dataframe tbody tr th:only-of-type {\n",
       "        vertical-align: middle;\n",
       "    }\n",
       "\n",
       "    .dataframe tbody tr th {\n",
       "        vertical-align: top;\n",
       "    }\n",
       "\n",
       "    .dataframe thead th {\n",
       "        text-align: right;\n",
       "    }\n",
       "</style>\n",
       "<table border=\"1\" class=\"dataframe\">\n",
       "  <thead>\n",
       "    <tr style=\"text-align: right;\">\n",
       "      <th></th>\n",
       "      <th>normalized-losses</th>\n",
       "      <th>wheel-base</th>\n",
       "      <th>length</th>\n",
       "      <th>width</th>\n",
       "      <th>height</th>\n",
       "      <th>curb-weight</th>\n",
       "      <th>bore</th>\n",
       "      <th>stroke</th>\n",
       "      <th>compression-rate</th>\n",
       "      <th>horsepower</th>\n",
       "      <th>peak-rpm</th>\n",
       "      <th>city-mpg</th>\n",
       "      <th>highway-mpg</th>\n",
       "      <th>price</th>\n",
       "    </tr>\n",
       "  </thead>\n",
       "  <tbody>\n",
       "    <tr>\n",
       "      <th>0</th>\n",
       "      <td>0.298429</td>\n",
       "      <td>0.058309</td>\n",
       "      <td>0.413433</td>\n",
       "      <td>0.324786</td>\n",
       "      <td>0.083333</td>\n",
       "      <td>0.411171</td>\n",
       "      <td>0.664286</td>\n",
       "      <td>0.290476</td>\n",
       "      <td>0.1250</td>\n",
       "      <td>0.294393</td>\n",
       "      <td>0.346939</td>\n",
       "      <td>0.222222</td>\n",
       "      <td>0.289474</td>\n",
       "      <td>13495.0</td>\n",
       "    </tr>\n",
       "    <tr>\n",
       "      <th>1</th>\n",
       "      <td>0.298429</td>\n",
       "      <td>0.058309</td>\n",
       "      <td>0.413433</td>\n",
       "      <td>0.324786</td>\n",
       "      <td>0.083333</td>\n",
       "      <td>0.411171</td>\n",
       "      <td>0.664286</td>\n",
       "      <td>0.290476</td>\n",
       "      <td>0.1250</td>\n",
       "      <td>0.294393</td>\n",
       "      <td>0.346939</td>\n",
       "      <td>0.222222</td>\n",
       "      <td>0.289474</td>\n",
       "      <td>16500.0</td>\n",
       "    </tr>\n",
       "    <tr>\n",
       "      <th>2</th>\n",
       "      <td>0.298429</td>\n",
       "      <td>0.230321</td>\n",
       "      <td>0.449254</td>\n",
       "      <td>0.444444</td>\n",
       "      <td>0.383333</td>\n",
       "      <td>0.517843</td>\n",
       "      <td>0.100000</td>\n",
       "      <td>0.666667</td>\n",
       "      <td>0.1250</td>\n",
       "      <td>0.495327</td>\n",
       "      <td>0.346939</td>\n",
       "      <td>0.166667</td>\n",
       "      <td>0.263158</td>\n",
       "      <td>16500.0</td>\n",
       "    </tr>\n",
       "    <tr>\n",
       "      <th>3</th>\n",
       "      <td>0.518325</td>\n",
       "      <td>0.384840</td>\n",
       "      <td>0.529851</td>\n",
       "      <td>0.504274</td>\n",
       "      <td>0.541667</td>\n",
       "      <td>0.329325</td>\n",
       "      <td>0.464286</td>\n",
       "      <td>0.633333</td>\n",
       "      <td>0.1875</td>\n",
       "      <td>0.252336</td>\n",
       "      <td>0.551020</td>\n",
       "      <td>0.305556</td>\n",
       "      <td>0.368421</td>\n",
       "      <td>13950.0</td>\n",
       "    </tr>\n",
       "    <tr>\n",
       "      <th>4</th>\n",
       "      <td>0.518325</td>\n",
       "      <td>0.373178</td>\n",
       "      <td>0.529851</td>\n",
       "      <td>0.521368</td>\n",
       "      <td>0.541667</td>\n",
       "      <td>0.518231</td>\n",
       "      <td>0.464286</td>\n",
       "      <td>0.633333</td>\n",
       "      <td>0.0625</td>\n",
       "      <td>0.313084</td>\n",
       "      <td>0.551020</td>\n",
       "      <td>0.138889</td>\n",
       "      <td>0.157895</td>\n",
       "      <td>17450.0</td>\n",
       "    </tr>\n",
       "  </tbody>\n",
       "</table>\n",
       "</div>"
      ],
      "text/plain": [
       "   normalized-losses  wheel-base    length     width    height  curb-weight  \\\n",
       "0           0.298429    0.058309  0.413433  0.324786  0.083333     0.411171   \n",
       "1           0.298429    0.058309  0.413433  0.324786  0.083333     0.411171   \n",
       "2           0.298429    0.230321  0.449254  0.444444  0.383333     0.517843   \n",
       "3           0.518325    0.384840  0.529851  0.504274  0.541667     0.329325   \n",
       "4           0.518325    0.373178  0.529851  0.521368  0.541667     0.518231   \n",
       "\n",
       "       bore    stroke  compression-rate  horsepower  peak-rpm  city-mpg  \\\n",
       "0  0.664286  0.290476            0.1250    0.294393  0.346939  0.222222   \n",
       "1  0.664286  0.290476            0.1250    0.294393  0.346939  0.222222   \n",
       "2  0.100000  0.666667            0.1250    0.495327  0.346939  0.166667   \n",
       "3  0.464286  0.633333            0.1875    0.252336  0.551020  0.305556   \n",
       "4  0.464286  0.633333            0.0625    0.313084  0.551020  0.138889   \n",
       "\n",
       "   highway-mpg    price  \n",
       "0     0.289474  13495.0  \n",
       "1     0.289474  16500.0  \n",
       "2     0.263158  16500.0  \n",
       "3     0.368421  13950.0  \n",
       "4     0.157895  17450.0  "
      ]
     },
     "execution_count": 15,
     "metadata": {},
     "output_type": "execute_result"
    }
   ],
   "source": [
    "numeric_cars.head()"
   ]
  },
  {
   "cell_type": "markdown",
   "metadata": {},
   "source": [
    "## Univariate Model\n",
    "Let's run each feature with KNN and determine which features are best to use for multivariate."
   ]
  },
  {
   "cell_type": "code",
   "execution_count": 16,
   "metadata": {
    "collapsed": true
   },
   "outputs": [],
   "source": [
    "from sklearn.neighbors import KNeighborsRegressor\n",
    "from sklearn.metrics import mean_squared_error\n",
    "from sklearn.model_selection import train_test_split, KFold, cross_val_score"
   ]
  },
  {
   "cell_type": "code",
   "execution_count": 17,
   "metadata": {
    "collapsed": true
   },
   "outputs": [],
   "source": [
    "def knn_train_test(feat_cols, target_col, df):\n",
    "    # Setup K-Fold: 50-50 split\n",
    "    X_train, X_test, y_train, y_test = train_test_split(df[[feat_cols]], df[target_col], test_size=0.5, random_state=7)\n",
    "    \n",
    "    # Setup KNN Model\n",
    "    knn = KNeighborsRegressor()\n",
    "    \n",
    "    # Fit\n",
    "    knn.fit(X_train, y_train)\n",
    "    \n",
    "    # Predict\n",
    "    pred = knn.predict(X_test)\n",
    "    \n",
    "    # Measure MSE and RMSE\n",
    "    mse = mean_squared_error(y_test, pred)\n",
    "    rmse = np.sqrt(mse)\n",
    "    \n",
    "    return rmse"
   ]
  },
  {
   "cell_type": "code",
   "execution_count": 18,
   "metadata": {},
   "outputs": [
    {
     "name": "stdout",
     "output_type": "stream",
     "text": [
      "Index(['normalized-losses', 'wheel-base', 'length', 'width', 'height',\n",
      "       'curb-weight', 'bore', 'stroke', 'compression-rate', 'horsepower',\n",
      "       'peak-rpm', 'city-mpg', 'highway-mpg'],\n",
      "      dtype='object')\n"
     ]
    }
   ],
   "source": [
    "# Retrieve feature columns\n",
    "feat_cols = numeric_cars.columns.drop(\"price\")\n",
    "print(feat_cols)"
   ]
  },
  {
   "cell_type": "code",
   "execution_count": 19,
   "metadata": {},
   "outputs": [],
   "source": [
    "# Fit each column into the model and store the result in a dictionary\n",
    "results_dict = {}\n",
    "for col in feat_cols:\n",
    "    rmse = knn_train_test(col, 'price', numeric_cars)\n",
    "    results_dict[col] = rmse\n",
    "uni_results = pd.Series(results_dict)"
   ]
  },
  {
   "cell_type": "code",
   "execution_count": 20,
   "metadata": {},
   "outputs": [
    {
     "data": {
      "text/plain": [
       "horsepower           3430.819790\n",
       "width                3553.844284\n",
       "curb-weight          4163.157305\n",
       "highway-mpg          4229.685281\n",
       "city-mpg             4660.722801\n",
       "length               4827.776914\n",
       "wheel-base           5752.948353\n",
       "bore                 5822.921884\n",
       "stroke               6737.441526\n",
       "compression-rate     6815.443860\n",
       "peak-rpm             6915.058012\n",
       "normalized-losses    7419.645784\n",
       "height               7762.600847\n",
       "dtype: float64"
      ]
     },
     "execution_count": 20,
     "metadata": {},
     "output_type": "execute_result"
    }
   ],
   "source": [
    "uni_results.sort_values()"
   ]
  },
  {
   "cell_type": "markdown",
   "metadata": {
    "collapsed": true
   },
   "source": [
    "From the univariate model, the top 5 results are horsepower, width, curb-weight, highway-mpg, and city-mpg. Let's use combinations of these features later for developing a multivariate model."
   ]
  },
  {
   "cell_type": "markdown",
   "metadata": {},
   "source": [
    "## Usage of different K Neighbors values for Univariate Model"
   ]
  },
  {
   "cell_type": "code",
   "execution_count": 21,
   "metadata": {},
   "outputs": [],
   "source": [
    "def knn_train_test(train_cols, target_col, df, k, cv=2):\n",
    "    # Setup KFold instance\n",
    "    kf = KFold(cv, shuffle=True, random_state=7)\n",
    "    \n",
    "    # Setup KNN Model using specified k values\n",
    "    knn = KNeighborsRegressor(n_neighbors=k)\n",
    "    \n",
    "    # Cross Validate and measure negative MSE\n",
    "    neg_mses = cross_val_score(knn, df[[train_cols]], df[target_col], scoring='neg_mean_squared_error', cv=kf)\n",
    "    \n",
    "    # Compute MSE absolute value\n",
    "    mses = np.absolute(neg_mses)\n",
    "    \n",
    "    # Compute RMSE\n",
    "    rmses = np.sqrt(mses)\n",
    "    \n",
    "    # Return mean RMSE\n",
    "    return rmses.mean()"
   ]
  },
  {
   "cell_type": "code",
   "execution_count": 22,
   "metadata": {},
   "outputs": [],
   "source": [
    "k_tests = [1,3,5,7,9]\n",
    "results_dict = {}\n",
    "\n",
    "# Iterate all columns\n",
    "for col in feat_cols:\n",
    "    results_k_dict = {}\n",
    "    for k in k_tests:\n",
    "        rmse = knn_train_test(col, 'price', numeric_cars, k, 2)\n",
    "        results_k_dict[k] = round(rmse, 2)\n",
    "    sorted_rslt = collections.OrderedDict(sorted(results_k_dict.items()))\n",
    "    results_dict[col] = sorted_rslt"
   ]
  },
  {
   "cell_type": "code",
   "execution_count": 23,
   "metadata": {},
   "outputs": [
    {
     "data": {
      "text/plain": [
       "{'bore': OrderedDict([(1, 7386.06),\n",
       "              (3, 7678.33),\n",
       "              (5, 7187.69),\n",
       "              (7, 6804.32),\n",
       "              (9, 6435.84)]),\n",
       " 'city-mpg': OrderedDict([(1, 5658.79),\n",
       "              (3, 4504.71),\n",
       "              (5, 4751.37),\n",
       "              (7, 4800.03),\n",
       "              (9, 4873.84)]),\n",
       " 'compression-rate': OrderedDict([(1, 7511.83),\n",
       "              (3, 6506.35),\n",
       "              (5, 6625.55),\n",
       "              (7, 7073.76),\n",
       "              (9, 7303.88)]),\n",
       " 'curb-weight': OrderedDict([(1, 5786.74),\n",
       "              (3, 4488.97),\n",
       "              (5, 4278.48),\n",
       "              (7, 4293.42),\n",
       "              (9, 4399.14)]),\n",
       " 'height': OrderedDict([(1, 10131.41),\n",
       "              (3, 8176.06),\n",
       "              (5, 7558.3),\n",
       "              (7, 7603.39),\n",
       "              (9, 7548.14)]),\n",
       " 'highway-mpg': OrderedDict([(1, 4937.46),\n",
       "              (3, 4773.11),\n",
       "              (5, 4506.47),\n",
       "              (7, 4597.11),\n",
       "              (9, 4616.7)]),\n",
       " 'horsepower': OrderedDict([(1, 4433.98),\n",
       "              (3, 4547.48),\n",
       "              (5, 4703.73),\n",
       "              (7, 4835.47),\n",
       "              (9, 4895.78)]),\n",
       " 'length': OrderedDict([(1, 6185.55),\n",
       "              (3, 5274.41),\n",
       "              (5, 5500.47),\n",
       "              (7, 5499.09),\n",
       "              (9, 5586.27)]),\n",
       " 'normalized-losses': OrderedDict([(1, 8614.5),\n",
       "              (3, 7642.57),\n",
       "              (5, 7219.1),\n",
       "              (7, 7593.38),\n",
       "              (9, 7555.4)]),\n",
       " 'peak-rpm': OrderedDict([(1, 11480.79),\n",
       "              (3, 8009.97),\n",
       "              (5, 7909.75),\n",
       "              (7, 7765.69),\n",
       "              (9, 7797.62)]),\n",
       " 'stroke': OrderedDict([(1, 9818.68),\n",
       "              (3, 7889.01),\n",
       "              (5, 8084.42),\n",
       "              (7, 7826.05),\n",
       "              (9, 7840.5)]),\n",
       " 'wheel-base': OrderedDict([(1, 6121.4),\n",
       "              (3, 5848.61),\n",
       "              (5, 6093.55),\n",
       "              (7, 6110.95),\n",
       "              (9, 6094.34)]),\n",
       " 'width': OrderedDict([(1, 4605.01),\n",
       "              (3, 4359.23),\n",
       "              (5, 4304.52),\n",
       "              (7, 4450.69),\n",
       "              (9, 4675.65)])}"
      ]
     },
     "execution_count": 23,
     "metadata": {},
     "output_type": "execute_result"
    }
   ],
   "source": [
    "results_dict"
   ]
  },
  {
   "cell_type": "code",
   "execution_count": 24,
   "metadata": {},
   "outputs": [
    {
     "data": {
      "image/png": "[encoded data removed]",
      "text/plain": [
       "<matplotlib.figure.Figure at 0x7f96bb76fb00>"
      ]
     },
     "metadata": {},
     "output_type": "display_data"
    }
   ],
   "source": [
    "# Plot results:\n",
    "for key, val in results_dict.items():\n",
    "    x = list(val.keys())\n",
    "    y = list(val.values())\n",
    "    \n",
    "    plt.plot(x,y)\n",
    "    plt.xlabel('k value')\n",
    "    plt.ylabel('RMSE')"
   ]
  },
  {
   "cell_type": "markdown",
   "metadata": {
    "collapsed": true
   },
   "source": [
    "Experimenting different values for K Neighbors we can easily see from the top-5 features (e.g. width, curb-weight etc.) we've listed before that k with a value of 5 yields the lowest RMSE. Let's verify this by averaging all k per feature."
   ]
  },
  {
   "cell_type": "code",
   "execution_count": 25,
   "metadata": {},
   "outputs": [
    {
     "data": {
      "text/plain": [
       "width                4479.020\n",
       "curb-weight          4649.350\n",
       "horsepower           4683.288\n",
       "highway-mpg          4686.170\n",
       "city-mpg             4917.748\n",
       "length               5609.158\n",
       "wheel-base           6053.770\n",
       "compression-rate     7004.274\n",
       "bore                 7098.448\n",
       "normalized-losses    7724.990\n",
       "height               8203.460\n",
       "stroke               8291.732\n",
       "peak-rpm             8592.764\n",
       "dtype: float64"
      ]
     },
     "execution_count": 25,
     "metadata": {},
     "output_type": "execute_result"
    }
   ],
   "source": [
    "# Compute average RMSE across all K value per feature\n",
    "avg_rmses = {}\n",
    "for k,v in results_dict.items():\n",
    "    avg_rmse = np.mean(list(v.values()))\n",
    "    avg_rmses[k] = avg_rmse\n",
    "result_avg_k_vals = pd.Series(avg_rmses)\n",
    "result_avg_k_vals.sort_values()"
   ]
  },
  {
   "cell_type": "markdown",
   "metadata": {},
   "source": [
    "Still, the top 5 features remain. For this reason, let's now use these features along with k=5 for training a multivariate KNN."
   ]
  },
  {
   "cell_type": "markdown",
   "metadata": {},
   "source": [
    "## Multivariate Model"
   ]
  },
  {
   "cell_type": "code",
   "execution_count": 26,
   "metadata": {
    "collapsed": true
   },
   "outputs": [],
   "source": [
    "def knn_train_test_multi(train_cols, target_col, df, k, cv=2):\n",
    "    # Setup KFold instance\n",
    "    kf = KFold(cv, shuffle=True, random_state=7)\n",
    "    \n",
    "    # Setup KNN Model using specified k values\n",
    "    knn = KNeighborsRegressor(n_neighbors=k)\n",
    "    \n",
    "    # Cross Validate and measure negative MSE\n",
    "    neg_mses = cross_val_score(knn, df[train_cols], df[target_col], scoring='neg_mean_squared_error', cv=kf)\n",
    "    \n",
    "    # Compute MSE absolute value\n",
    "    mses = np.absolute(neg_mses)\n",
    "    \n",
    "    # Compute RMSE\n",
    "    rmses = np.sqrt(mses)\n",
    "    \n",
    "    # Return mean RMSE\n",
    "    return rmses.mean()"
   ]
  },
  {
   "cell_type": "code",
   "execution_count": 27,
   "metadata": {},
   "outputs": [
    {
     "name": "stdout",
     "output_type": "stream",
     "text": [
      "['horsepower', 'width']\n"
     ]
    },
    {
     "data": {
      "text/plain": [
       "top_3    3511.7486\n",
       "top_4    3577.5479\n",
       "top_5    3618.4856\n",
       "top_2    3778.4015\n",
       "dtype: float64"
      ]
     },
     "execution_count": 27,
     "metadata": {},
     "output_type": "execute_result"
    }
   ],
   "source": [
    "# All tests use k=5\n",
    "results_multi_dict = {}\n",
    "\n",
    "# Using 2 Features\n",
    "top_2 = [\"horsepower\", \"width\"]\n",
    "print(top_2)\n",
    "rmse_2 = knn_train_test_multi(top_2, 'price', numeric_cars, 5, 2)\n",
    "results_multi_dict[\"top_2\"] = round(rmse_2, 4)\n",
    "\n",
    "# Using 3 Features\n",
    "top_3 = [\"horsepower\", \"width\", \"curb-weight\"]\n",
    "rmse_3 = knn_train_test_multi(top_3, 'price', numeric_cars, 5, 2)\n",
    "results_multi_dict[\"top_3\"] = round(rmse_3, 4)\n",
    "\n",
    "# Using 4 Features\n",
    "top_4 = [\"horsepower\", \"width\", \"curb-weight\", \"highway-mpg\"]\n",
    "rmse_4 = knn_train_test_multi(top_4, 'price', numeric_cars, 5, 2)\n",
    "results_multi_dict[\"top_4\"] = round(rmse_4, 4)\n",
    "\n",
    "# Using 5 Features\n",
    "top_5_cols = [\"horsepower\", \"width\", \"curb-weight\", \"highway-mpg\", \"city-mpg\"]\n",
    "rmse_5 = knn_train_test_multi(top_5_cols, 'price', numeric_cars, 5, 2)\n",
    "results_multi_dict[\"top_5\"] = round(rmse_5, 4)\n",
    "\n",
    "result_multi = pd.Series(results_multi_dict)\n",
    "result_multi.sort_values()"
   ]
  },
  {
   "cell_type": "markdown",
   "metadata": {},
   "source": [
    "Usage of multiple features lowered the error rate even more. However, we're still not satisfied with the output since we haven't exhausted our experiments. For now, let's try different values for K using multiple features."
   ]
  },
  {
   "cell_type": "code",
   "execution_count": 28,
   "metadata": {},
   "outputs": [],
   "source": [
    "feat_cols = [\n",
    "    [\"horsepower\", \"width\"],\n",
    "    [\"horsepower\", \"width\", \"curb-weight\"],\n",
    "    [\"horsepower\", \"width\", \"curb-weight\", \"highway-mpg\"],\n",
    "    [\"horsepower\", \"width\", \"curb-weight\", \"highway-mpg\", \"city-mpg\"]\n",
    "]\n",
    "k_tests = [k for k in range(1,26)]\n",
    "results_dict_multi = {}\n",
    "\n",
    "for cols in feat_cols:\n",
    "    results_k_dict = {}\n",
    "    for k in k_tests:\n",
    "        rmse = knn_train_test_multi(cols, 'price', numeric_cars, k, 5)\n",
    "        results_k_dict[k] = round(rmse,2)\n",
    "    sorted_rslt = collections.OrderedDict(sorted(results_k_dict.items()))\n",
    "    key_name = \"top_\" + str(len(cols))\n",
    "    results_dict_multi[key_name] = sorted_rslt"
   ]
  },
  {
   "cell_type": "code",
   "execution_count": 29,
   "metadata": {},
   "outputs": [
    {
     "data": {
      "text/plain": [
       "{'top_2': OrderedDict([(1, 4150.87),\n",
       "              (2, 3404.77),\n",
       "              (3, 3207.81),\n",
       "              (4, 3212.07),\n",
       "              (5, 3333.03),\n",
       "              (6, 3435.99),\n",
       "              (7, 3548.3),\n",
       "              (8, 3623.28),\n",
       "              (9, 3598.36),\n",
       "              (10, 3591.04),\n",
       "              (11, 3656.37),\n",
       "              (12, 3674.51),\n",
       "              (13, 3770.67),\n",
       "              (14, 3836.88),\n",
       "              (15, 3895.15),\n",
       "              (16, 3973.12),\n",
       "              (17, 4018.79),\n",
       "              (18, 4066.6),\n",
       "              (19, 4114.46),\n",
       "              (20, 4171.93),\n",
       "              (21, 4216.4),\n",
       "              (22, 4280.53),\n",
       "              (23, 4331.75),\n",
       "              (24, 4343.17),\n",
       "              (25, 4350.05)]),\n",
       " 'top_3': OrderedDict([(1, 2703.71),\n",
       "              (2, 2859.1),\n",
       "              (3, 2892.37),\n",
       "              (4, 3064.52),\n",
       "              (5, 2983.02),\n",
       "              (6, 2999.66),\n",
       "              (7, 3022.77),\n",
       "              (8, 3109.03),\n",
       "              (9, 3187.08),\n",
       "              (10, 3258.05),\n",
       "              (11, 3307.46),\n",
       "              (12, 3403.95),\n",
       "              (13, 3514.97),\n",
       "              (14, 3621.44),\n",
       "              (15, 3706.77),\n",
       "              (16, 3795.51),\n",
       "              (17, 3874.3),\n",
       "              (18, 3911.29),\n",
       "              (19, 3996.85),\n",
       "              (20, 4044.12),\n",
       "              (21, 4057.74),\n",
       "              (22, 4067.41),\n",
       "              (23, 4097.67),\n",
       "              (24, 4118.96),\n",
       "              (25, 4155.89)]),\n",
       " 'top_4': OrderedDict([(1, 2682.92),\n",
       "              (2, 2879.86),\n",
       "              (3, 2786.15),\n",
       "              (4, 2908.47),\n",
       "              (5, 2984.54),\n",
       "              (6, 2998.76),\n",
       "              (7, 3126.67),\n",
       "              (8, 3174.57),\n",
       "              (9, 3298.26),\n",
       "              (10, 3336.17),\n",
       "              (11, 3398.88),\n",
       "              (12, 3444.52),\n",
       "              (13, 3543.47),\n",
       "              (14, 3595.89),\n",
       "              (15, 3711.18),\n",
       "              (16, 3784.05),\n",
       "              (17, 3854.93),\n",
       "              (18, 3914.4),\n",
       "              (19, 3956.65),\n",
       "              (20, 4045.88),\n",
       "              (21, 4067.64),\n",
       "              (22, 4094.54),\n",
       "              (23, 4141.36),\n",
       "              (24, 4151.99),\n",
       "              (25, 4188.77)]),\n",
       " 'top_5': OrderedDict([(1, 2768.01),\n",
       "              (2, 2971.26),\n",
       "              (3, 2952.18),\n",
       "              (4, 3105.16),\n",
       "              (5, 3103.38),\n",
       "              (6, 3148.46),\n",
       "              (7, 3217.03),\n",
       "              (8, 3254.97),\n",
       "              (9, 3312.16),\n",
       "              (10, 3402.27),\n",
       "              (11, 3451.3),\n",
       "              (12, 3563.19),\n",
       "              (13, 3671.81),\n",
       "              (14, 3698.14),\n",
       "              (15, 3791.41),\n",
       "              (16, 3835.59),\n",
       "              (17, 3932.59),\n",
       "              (18, 3951.27),\n",
       "              (19, 3984.87),\n",
       "              (20, 4054.25),\n",
       "              (21, 4070.37),\n",
       "              (22, 4114.99),\n",
       "              (23, 4171.8),\n",
       "              (24, 4208.96),\n",
       "              (25, 4233.47)])}"
      ]
     },
     "execution_count": 29,
     "metadata": {},
     "output_type": "execute_result"
    }
   ],
   "source": [
    "results_dict_multi"
   ]
  },
  {
   "cell_type": "code",
   "execution_count": 30,
   "metadata": {},
   "outputs": [
    {
     "data": {
      "image/png": "[encoded data removed]",
      "text/plain": [
       "<matplotlib.figure.Figure at 0x7f96bba512e8>"
      ]
     },
     "metadata": {},
     "output_type": "display_data"
    }
   ],
   "source": [
    "# Plot results:\n",
    "for key, val in results_dict_multi.items():\n",
    "    x = list(val.keys())\n",
    "    y = list(val.values())\n",
    "    \n",
    "    plt.plot(x,y)\n",
    "    plt.xlabel('k value')\n",
    "    plt.ylabel('RMSE')"
   ]
  },
  {
   "cell_type": "code",
   "execution_count": 31,
   "metadata": {},
   "outputs": [
    {
     "data": {
      "text/plain": [
       "top_3    3510.1456\n",
       "top_4    3522.8208\n",
       "top_5    3598.7556\n",
       "top_2    3832.2360\n",
       "dtype: float64"
      ]
     },
     "execution_count": 31,
     "metadata": {},
     "output_type": "execute_result"
    }
   ],
   "source": [
    "# Compute average RMSE across all K value per feature\n",
    "avg_rmses = {}\n",
    "for k,v in results_dict_multi.items():\n",
    "    avg_rmse = np.mean(list(v.values()))\n",
    "    avg_rmses[k] = avg_rmse\n",
    "result_avg_k_vals = pd.Series(avg_rmses)\n",
    "result_avg_k_vals.sort_values()"
   ]
  },
  {
   "cell_type": "markdown",
   "metadata": {},
   "source": [
    "Using the top-3 features produced the best results. Interestingly, the lowest k value which is 1 yielded the lowest RMSE among different sets of top-n features. Unlike the others, using 2 features produced different results for the first k values (i.e 1-5). "
   ]
  }
 ],
 "metadata": {
  "kernelspec": {
   "display_name": "Python 3",
   "language": "python",
   "name": "python3"
  },
  "language_info": {
   "codemirror_mode": {
    "name": "ipython",
    "version": 3
   },
   "file_extension": ".py",
   "mimetype": "text/x-python",
   "name": "python",
   "nbconvert_exporter": "python",
   "pygments_lexer": "ipython3",
   "version": "3.7.3"
  }
 },
 "nbformat": 4,
 "nbformat_minor": 2
}
